{
  "nbformat": 4,
  "nbformat_minor": 0,
  "metadata": {
    "colab": {
      "name": "connection.ipynb",
      "provenance": [],
      "collapsed_sections": [],
      "authorship_tag": "ABX9TyPAK50enwlWcjQ4jTKtwee+",
      "include_colab_link": true
    },
    "kernelspec": {
      "name": "python3",
      "display_name": "Python 3"
    }
  },
  "cells": [
    {
      "cell_type": "markdown",
      "metadata": {
        "id": "view-in-github",
        "colab_type": "text"
      },
      "source": [
        "<a href=\"https://colab.research.google.com/github/1kr1st1na1/SWOT01032021/blob/main/connection.ipynb\" target=\"_parent\"><img src=\"https://colab.research.google.com/assets/colab-badge.svg\" alt=\"Open In Colab\"/></a>"
      ]
    },
    {
      "cell_type": "code",
      "metadata": {
        "colab": {
          "base_uri": "https://localhost:8080/"
        },
        "id": "HJ5hZ41duosd",
        "outputId": "1db2ec88-9915-4eae-ef86-d97f45670f96"
      },
      "source": [
        "#Задание №1\r\n",
        "print(\"20БИ2, Горбатенко Кристина Сергеевна \")\r\n",
        "!rm /etc/localtime\r\n",
        "!ln -s /usr/share/zoneinfo/Europe/Moscow /etc/localtime\r\n",
        "!date"
      ],
      "execution_count": 36,
      "outputs": [
        {
          "output_type": "stream",
          "text": [
            "20БИ2, Горбатенко Кристина Сергеевна \n",
            "Mon Mar  1 20:21:15 MSK 2021\n"
          ],
          "name": "stdout"
        }
      ]
    },
    {
      "cell_type": "code",
      "metadata": {
        "colab": {
          "base_uri": "https://localhost:8080/"
        },
        "id": "11rqXeqlKI4m",
        "outputId": "61b3acf3-62ae-4875-9cc2-a137e94ae18c"
      },
      "source": [
        "#Задание №2\r\n",
        "from google.colab import auth\r\n",
        "auth.authenticate_user()\r\n",
        "!pip install --upgrade gspread\r\n",
        "import gspread\r\n",
        "from google.colab import drive\r\n",
        "drive.mount('/content/drive')\r\n",
        "import os\r\n",
        "print(os.getcwd())\r\n",
        "print(os.listdir('./'))\r\n",
        "print(os.listdir('/content/drive'))\r\n",
        "print(os.listdir('/content/drive/MyDrive/Colab Notebooks/SWOT1'))\r\n",
        "#%ll -lF /content/drive/MyDrive/\"Colab Notebooks\"/SWOT1\r\n",
        "from oauth2client.client import GoogleCredentials\r\n",
        "gs = gspread.authorize(GoogleCredentials.get_application_default())\r\n",
        "import os\r\n",
        "import time\r\n",
        "print('\\nРаботаем с таблицей')\r\n",
        "%ll -lAF /content/drive/MyDrive/\"Colab Notebooks\"/SWOT1/\r\n",
        "os.stat('/content/drive/MyDrive/Colab Notebooks/SWOT1/TABLE.gsheet')\r\n",
        "table = gs.open_by_key('1LSWFOVthquRnsqGwxX7eNQCzqY_j1fKd7fq8KUlQczo')\r\n",
        "print(dir(table))"
      ],
      "execution_count": 37,
      "outputs": [
        {
          "output_type": "stream",
          "text": [
            "Requirement already up-to-date: gspread in /usr/local/lib/python3.7/dist-packages (3.7.0)\n",
            "Requirement already satisfied, skipping upgrade: google-auth>=1.12.0 in /usr/local/lib/python3.7/dist-packages (from gspread) (1.27.0)\n",
            "Requirement already satisfied, skipping upgrade: google-auth-oauthlib>=0.4.1 in /usr/local/lib/python3.7/dist-packages (from gspread) (0.4.2)\n",
            "Requirement already satisfied, skipping upgrade: pyasn1-modules>=0.2.1 in /usr/local/lib/python3.7/dist-packages (from google-auth>=1.12.0->gspread) (0.2.8)\n",
            "Requirement already satisfied, skipping upgrade: rsa<5,>=3.1.4; python_version >= \"3.6\" in /usr/local/lib/python3.7/dist-packages (from google-auth>=1.12.0->gspread) (4.7.2)\n",
            "Requirement already satisfied, skipping upgrade: cachetools<5.0,>=2.0.0 in /usr/local/lib/python3.7/dist-packages (from google-auth>=1.12.0->gspread) (4.2.1)\n",
            "Requirement already satisfied, skipping upgrade: six>=1.9.0 in /usr/local/lib/python3.7/dist-packages (from google-auth>=1.12.0->gspread) (1.15.0)\n",
            "Requirement already satisfied, skipping upgrade: setuptools>=40.3.0 in /usr/local/lib/python3.7/dist-packages (from google-auth>=1.12.0->gspread) (53.0.0)\n",
            "Requirement already satisfied, skipping upgrade: requests-oauthlib>=0.7.0 in /usr/local/lib/python3.7/dist-packages (from google-auth-oauthlib>=0.4.1->gspread) (1.3.0)\n",
            "Requirement already satisfied, skipping upgrade: pyasn1<0.5.0,>=0.4.6 in /usr/local/lib/python3.7/dist-packages (from pyasn1-modules>=0.2.1->google-auth>=1.12.0->gspread) (0.4.8)\n",
            "Requirement already satisfied, skipping upgrade: oauthlib>=3.0.0 in /usr/local/lib/python3.7/dist-packages (from requests-oauthlib>=0.7.0->google-auth-oauthlib>=0.4.1->gspread) (3.1.0)\n",
            "Requirement already satisfied, skipping upgrade: requests>=2.0.0 in /usr/local/lib/python3.7/dist-packages (from requests-oauthlib>=0.7.0->google-auth-oauthlib>=0.4.1->gspread) (2.23.0)\n",
            "Requirement already satisfied, skipping upgrade: certifi>=2017.4.17 in /usr/local/lib/python3.7/dist-packages (from requests>=2.0.0->requests-oauthlib>=0.7.0->google-auth-oauthlib>=0.4.1->gspread) (2020.12.5)\n",
            "Requirement already satisfied, skipping upgrade: urllib3!=1.25.0,!=1.25.1,<1.26,>=1.21.1 in /usr/local/lib/python3.7/dist-packages (from requests>=2.0.0->requests-oauthlib>=0.7.0->google-auth-oauthlib>=0.4.1->gspread) (1.24.3)\n",
            "Requirement already satisfied, skipping upgrade: chardet<4,>=3.0.2 in /usr/local/lib/python3.7/dist-packages (from requests>=2.0.0->requests-oauthlib>=0.7.0->google-auth-oauthlib>=0.4.1->gspread) (3.0.4)\n",
            "Requirement already satisfied, skipping upgrade: idna<3,>=2.5 in /usr/local/lib/python3.7/dist-packages (from requests>=2.0.0->requests-oauthlib>=0.7.0->google-auth-oauthlib>=0.4.1->gspread) (2.10)\n",
            "Drive already mounted at /content/drive; to attempt to forcibly remount, call drive.mount(\"/content/drive\", force_remount=True).\n",
            "/content\n",
            "['.config', 'drive', 'adc.json', 'sample_data']\n",
            "['.shortcut-targets-by-id', 'MyDrive', '.file-revisions-by-id', '.Trash']\n",
            "['TABLE.gsheet', 'mathplot_bar_swot.png', 'swot_dictionary11.json', 'connection.ipynb']\n",
            "\n",
            "Работаем с таблицей\n",
            "total 88\n",
            "-rw------- 1 root 73986 Mar  1 20:20 connection.ipynb\n",
            "-rw------- 1 root 11877 Mar  1 20:20 mathplot_bar_swot.png\n",
            "-rw------- 1 root  2511 Mar  1 20:20 swot_dictionary11.json\n",
            "-rw------- 1 root   151 Mar  1 20:20 TABLE.gsheet\n",
            "['__class__', '__delattr__', '__dict__', '__dir__', '__doc__', '__eq__', '__format__', '__ge__', '__getattribute__', '__gt__', '__hash__', '__init__', '__init_subclass__', '__iter__', '__le__', '__lt__', '__module__', '__ne__', '__new__', '__reduce__', '__reduce_ex__', '__repr__', '__setattr__', '__sizeof__', '__str__', '__subclasshook__', '__weakref__', '_properties', '_spreadsheets_get', '_spreadsheets_sheets_copy_to', 'add_worksheet', 'batch_update', 'client', 'del_worksheet', 'duplicate_sheet', 'fetch_sheet_metadata', 'get_worksheet', 'id', 'list_permissions', 'remove_permissions', 'reorder_worksheets', 'share', 'sheet1', 'title', 'updated', 'url', 'values_append', 'values_batch_get', 'values_batch_update', 'values_clear', 'values_get', 'values_update', 'worksheet', 'worksheets']\n"
          ],
          "name": "stdout"
        }
      ]
    },
    {
      "cell_type": "code",
      "metadata": {
        "colab": {
          "base_uri": "https://localhost:8080/",
          "height": 617
        },
        "id": "JILXPGK36dsh",
        "outputId": "f07a68cf-d81c-49ba-ee63-bb02fef19c4b"
      },
      "source": [
        "#работаем с листом strengths\r\n",
        "print('\\nРаботаем с листом strengths')\r\n",
        "%ll -lAF /content/drive/MyDrive/\"Colab Notebooks\"/SWOT1/\r\n",
        "os.listdir('/content/drive/MyDrive/Colab Notebooks/SWOT1/')\r\n",
        "#подсчёт суммарной power в strengths\r\n",
        "worksheet = table.worksheet(\"strengths\")\r\n",
        "rows = worksheet.get_all_values()\r\n",
        "name = list()\r\n",
        "actions = list()\r\n",
        "importance = list()\r\n",
        "probability = list()\r\n",
        "power = list()\r\n",
        "power_sh = list()\r\n",
        "power_raw = list()\r\n",
        "i=0\r\n",
        "for row in rows:\r\n",
        "  if(i>0):\r\n",
        "    print (i, row)\r\n",
        "    name.append(row[0])\r\n",
        "    importance.append(int(row[2]))\r\n",
        "    probability.append(float(row[3]))\r\n",
        "    power.append(int(row[2])*float(row[3]))\r\n",
        "    power_raw = list()\r\n",
        "    power_raw.append(int(row[2])*float(row[3]))\r\n",
        "    power_sh.append(power_raw)\r\n",
        "  i+=1\r\n",
        "print(power_sh)\r\n",
        "worksheet.update('E2:E10', power_sh)\r\n",
        "result = sum(power)\r\n",
        "worksheet.update('G3','Суммарная power:')\r\n",
        "worksheet.update('H3',result)\r\n",
        "print('Суммарная Power strengths составляет:', result)\r\n",
        "#Диаграмма strengths\r\n",
        "import matplotlib\r\n",
        "import matplotlib.pyplot as plt\r\n",
        "import numpy as np\r\n",
        "#лист line через цикл/для подсчёта кол-ва пуктов=>cтолбцов диаграммы\r\n",
        "i=0\r\n",
        "line= list()\r\n",
        "cols=worksheet.col_values(1)\r\n",
        "for col in cols:\r\n",
        "  if (i>0):\r\n",
        "    line.append(i)\r\n",
        "  i+=1\r\n",
        "\r\n",
        "powers = power\r\n",
        "x = np.arange(len(line))  # the label locations\r\n",
        "width = 0.6  # the width of the bars\r\n",
        "fig, ax = plt.subplots()\r\n",
        "rects1 = ax.bar(x - width/2, powers, width)\r\n",
        "a=worksheet.col_values(1)\r\n",
        "ax.set_ylabel('Мощность воздействия')\r\n",
        "ax.set_title('Strengths')\r\n",
        "ax.set_xlabel('Обозначения')\r\n",
        "ax.set_xticks(x)\r\n",
        "ax.set_xticklabels(line)\r\n",
        "fig.tight_layout()\r\n",
        "plt.show()\r\n",
        "k=0\r\n",
        "#вывод пунктов из name в цикле(подпись диаграммы)\r\n",
        "for col in cols:\r\n",
        "  if(k>0):\r\n",
        "    print (k,'- ', col)\r\n",
        "  k+=1\r\n",
        "!date"
      ],
      "execution_count": 38,
      "outputs": [
        {
          "output_type": "stream",
          "text": [
            "\n",
            "Работаем с листом strengths\n",
            "total 88\n",
            "-rw------- 1 root 73986 Mar  1 20:20 connection.ipynb\n",
            "-rw------- 1 root 11877 Mar  1 20:20 mathplot_bar_swot.png\n",
            "-rw------- 1 root  2511 Mar  1 20:20 swot_dictionary11.json\n",
            "-rw------- 1 root   151 Mar  1 20:20 TABLE.gsheet\n",
            "1 ['Небольшие затраты на производство', 'В начале необходимо около 40 тыс.руб., вода, свет, тепло, субстрат', '9', '0.9', '8.1', '', '', '']\n",
            "2 ['Удобное местоположение', 'Нет необходимости возводить масштабную и дорогую теплицу, может находиться прямо в городе', '9', '1', '9', '', 'Суммарная power:', '31.75']\n",
            "3 ['Круглогодичность производства', 'Обусловлено вырщиванием в теплицах', '9', '0.85', '7.65', '', '', '']\n",
            "4 ['Большой объём производимого товара на небольшой площади', 'Обусловлено тем, что это микрозелень', '7', '1', '7', '', '', '']\n",
            "[[8.1], [9.0], [7.6499999999999995], [7.0]]\n",
            "Суммарная Power strengths составляет: 31.75\n"
          ],
          "name": "stdout"
        },
        {
          "output_type": "display_data",
          "data": {
            "image/png": "[encoded data removed]",
            "text/plain": [
              "<Figure size 432x288 with 1 Axes>"
            ]
          },
          "metadata": {
            "tags": [],
            "needs_background": "light"
          }
        },
        {
          "output_type": "stream",
          "text": [
            "1 -  Небольшие затраты на производство\n",
            "2 -  Удобное местоположение\n",
            "3 -  Круглогодичность производства\n",
            "4 -  Большой объём производимого товара на небольшой площади\n",
            "Mon Mar  1 20:21:21 MSK 2021\n"
          ],
          "name": "stdout"
        }
      ]
    },
    {
      "cell_type": "code",
      "metadata": {
        "colab": {
          "base_uri": "https://localhost:8080/",
          "height": 617
        },
        "id": "2uh9xPkY2x8F",
        "outputId": "21d276fb-d5fa-4814-d4c2-b0096492cd75"
      },
      "source": [
        "#работаем с листом weaknesses\r\n",
        "print('\\nРаботаем с листом weaknesses')\r\n",
        "%ll -lAF /content/drive/MyDrive/\"Colab Notebooks\"/SWOT1/\r\n",
        "os.listdir('/content/drive/MyDrive/Colab Notebooks/SWOT1/')\r\n",
        "#Подсчёт суммарной power в weaknesses\r\n",
        "worksheet = table.worksheet(\"weaknesses\")\r\n",
        "rows = worksheet.get_all_values()\r\n",
        "name = list()\r\n",
        "actions = list()\r\n",
        "importanceW = list()\r\n",
        "probabilityW = list()\r\n",
        "power = list()\r\n",
        "power_sh = list()\r\n",
        "power_raw = list()\r\n",
        "i=0\r\n",
        "for row in rows:\r\n",
        "  if(i>0):\r\n",
        "    print (i, row)\r\n",
        "    name.append(row[0])\r\n",
        "    importance.append(int(row[2]))\r\n",
        "    probability.append(float(row[3]))\r\n",
        "    power.append(int(row[2])*float(row[3]))\r\n",
        "    power_raw = list()\r\n",
        "    power_raw.append(int(row[2])*float(row[3]))\r\n",
        "    power_sh.append(power_raw)\r\n",
        "  i+=1\r\n",
        "print(power_sh)\r\n",
        "worksheet.update('E2:E10', power_sh)\r\n",
        "result= sum(power)\r\n",
        "worksheet.update('G3','Суммарная power:')\r\n",
        "worksheet.update('H3',result)\r\n",
        "print('Суммарная Power weaknesses составляет:', result)\r\n",
        "#Диаграмма weaknesses\r\n",
        "import matplotlib\r\n",
        "import matplotlib.pyplot as plt\r\n",
        "import numpy as np\r\n",
        "\r\n",
        "#лист line через цикл/для подсчёта кол-ва пуктов=>cтолбцов\r\n",
        "i=0\r\n",
        "line = list()\r\n",
        "cols = worksheet.col_values(1)\r\n",
        "for col in cols:\r\n",
        "  if(i>0):\r\n",
        "    line.append(i)\r\n",
        "  i+=1\r\n",
        "\r\n",
        "powers = power\r\n",
        "x = np.arange(len(line))  # the label locations\r\n",
        "width = 0.6  # the width of the bars\r\n",
        "fig, ax = plt.subplots()\r\n",
        "rects1 = ax.bar(x - width/2, powers, width)\r\n",
        "a=worksheet.col_values(1)\r\n",
        "ax.set_ylabel('Мощность воздействия')\r\n",
        "ax.set_title('Weaknesses')\r\n",
        "ax.set_xlabel('Обозначения')\r\n",
        "ax.set_xticks(x)\r\n",
        "ax.set_xticklabels(line)\r\n",
        "fig.tight_layout()\r\n",
        "plt.show()\r\n",
        "k=0\r\n",
        "#вывод пунктов из name в цикле(подпись диаграммы)\r\n",
        "for col in cols:\r\n",
        "  if(k>0):\r\n",
        "    print (k,'- ', col)\r\n",
        "  k+=1\r\n",
        "!date"
      ],
      "execution_count": 39,
      "outputs": [
        {
          "output_type": "stream",
          "text": [
            "\n",
            "Работаем с листом weaknesses\n",
            "total 88\n",
            "-rw------- 1 root 73986 Mar  1 20:20 connection.ipynb\n",
            "-rw------- 1 root 11877 Mar  1 20:20 mathplot_bar_swot.png\n",
            "-rw------- 1 root  2511 Mar  1 20:20 swot_dictionary11.json\n",
            "-rw------- 1 root   151 Mar  1 20:20 TABLE.gsheet\n",
            "1 ['Болезнь растений, почвы', 'Тщательный уход, проверки. Удобрения.', '9', '0.4', '3.6', '', '', '']\n",
            "2 ['Малые сроки хранения (в среднем 10 дней)', 'Акции. Сотрудничество с ресторанами, кафе, иными предприятиями', '7', '0.5', '3.5', '', 'Суммарная power:', '9.9']\n",
            "3 ['Потеря энерго- и водо- снабжения', 'Маловероятно', '8', '0.1', '0.8', '', '', '']\n",
            "4 ['Недобросовестность персонала', 'Выплата премий(надбавок). Назначение штрафов.', '8', '0.25', '2', '', '', '']\n",
            "[[3.6], [3.5], [0.8], [2.0]]\n",
            "Суммарная Power weaknesses составляет: 9.899999999999999\n"
          ],
          "name": "stdout"
        },
        {
          "output_type": "display_data",
          "data": {
            "image/png": "[encoded data removed]",
            "text/plain": [
              "<Figure size 432x288 with 1 Axes>"
            ]
          },
          "metadata": {
            "tags": [],
            "needs_background": "light"
          }
        },
        {
          "output_type": "stream",
          "text": [
            "1 -  Болезнь растений, почвы\n",
            "2 -  Малые сроки хранения (в среднем 10 дней)\n",
            "3 -  Потеря энерго- и водо- снабжения\n",
            "4 -  Недобросовестность персонала\n",
            "Mon Mar  1 20:21:24 MSK 2021\n"
          ],
          "name": "stdout"
        }
      ]
    },
    {
      "cell_type": "code",
      "metadata": {
        "colab": {
          "base_uri": "https://localhost:8080/",
          "height": 617
        },
        "id": "teW3KxpN9pgB",
        "outputId": "548a9931-8ec3-4076-a10f-50c9d0acbd61"
      },
      "source": [
        "#работаем с листом opportunities\r\n",
        "print('\\nРаботаем с листом opportunities')\r\n",
        "%ll -lAF /content/drive/MyDrive/\"Colab Notebooks\"/SWOT1/\r\n",
        "os.listdir('/content/drive/MyDrive/Colab Notebooks/SWOT1/')\r\n",
        "#Подсчёт суммарной power в opportunities\r\n",
        "worksheet = table.worksheet(\"opportunities\")\r\n",
        "rows = worksheet.get_all_values()\r\n",
        "name = list()\r\n",
        "actions = list()\r\n",
        "importanceW = list()\r\n",
        "probabilityW = list()\r\n",
        "power = list()\r\n",
        "power_sh = list()\r\n",
        "power_raw = list()\r\n",
        "i=0\r\n",
        "for row in rows:\r\n",
        "  if(i>0):\r\n",
        "    print (i, row)\r\n",
        "    name.append(row[0])\r\n",
        "    importance.append(int(row[2]))\r\n",
        "    probability.append(float(row[3]))\r\n",
        "    power.append(int(row[2])*float(row[3]))\r\n",
        "    power_raw = list()\r\n",
        "    power_raw.append(int(row[2])*float(row[3]))\r\n",
        "    power_sh.append(power_raw)\r\n",
        "  i+=1\r\n",
        "print(power_sh)\r\n",
        "worksheet.update('E2:E10', power_sh)\r\n",
        "result= sum(power)\r\n",
        "worksheet.update('G3','Суммарная power:')\r\n",
        "worksheet.update('H3',result)\r\n",
        "print('Суммарная Power opportunities составляет:', result)\r\n",
        "#Диаграмма opportunities\r\n",
        "import matplotlib\r\n",
        "import matplotlib.pyplot as plt\r\n",
        "import numpy as np\r\n",
        "\r\n",
        "#лист line через цикл/для подсчёта кол-ва пуктов=>cтолбцов\r\n",
        "i=0\r\n",
        "line = list()\r\n",
        "cols = worksheet.col_values(1)\r\n",
        "for col in cols:\r\n",
        "  if(i>0):\r\n",
        "    line.append(i)\r\n",
        "  i+=1\r\n",
        "\r\n",
        "powers = power\r\n",
        "x = np.arange(len(line))  # the label locations\r\n",
        "width = 0.6  # the width of the bars\r\n",
        "fig, ax = plt.subplots()\r\n",
        "rects1 = ax.bar(x - width/2, powers, width)\r\n",
        "a=worksheet.col_values(1)\r\n",
        "ax.set_ylabel('Мощность воздействия')\r\n",
        "ax.set_title('Opportunities')\r\n",
        "ax.set_xlabel('Обозначения')\r\n",
        "ax.set_xticks(x)\r\n",
        "ax.set_xticklabels(line)\r\n",
        "fig.tight_layout()\r\n",
        "plt.show()\r\n",
        "k=0\r\n",
        "# вывод пунктов из name в цикле(подпись диаграммы)\r\n",
        "for col in cols:\r\n",
        "  if(k>0):\r\n",
        "    print (k,'- ', col)\r\n",
        "  k+=1\r\n",
        "!date"
      ],
      "execution_count": 40,
      "outputs": [
        {
          "output_type": "stream",
          "text": [
            "\n",
            "Работаем с листом opportunities\n",
            "total 88\n",
            "-rw------- 1 root 73986 Mar  1 20:20 connection.ipynb\n",
            "-rw------- 1 root 11877 Mar  1 20:20 mathplot_bar_swot.png\n",
            "-rw------- 1 root  2511 Mar  1 20:20 swot_dictionary11.json\n",
            "-rw------- 1 root   151 Mar  1 20:20 TABLE.gsheet\n",
            "1 ['Выход на российский рынок', 'Достигается увеличением объёма проихводства и изучением спроса', '7', '0.5', '3.5', '', '', '']\n",
            "2 ['Расширение ассортимента', 'Обуслевлено спросом, достигается засчёт прибыли', '6', '0.5', '3', '', 'Суммарная power:', '17.9']\n",
            "3 ['Спрос на продукцию', 'Обуслевлено желанием покупателей правильно и здорово питаться', '6', '0.7', '4.2', '', '', '']\n",
            "4 ['Наличие необходимых ресурсов и умений', 'Достигается привлечением специалистами и инфраструктурой', '8', '0.9', '7.2', '', '', '']\n",
            "[[3.5], [3.0], [4.199999999999999], [7.2]]\n",
            "Суммарная Power opportunities составляет: 17.9\n"
          ],
          "name": "stdout"
        },
        {
          "output_type": "display_data",
          "data": {
            "image/png": "[encoded data removed]",
            "text/plain": [
              "<Figure size 432x288 with 1 Axes>"
            ]
          },
          "metadata": {
            "tags": [],
            "needs_background": "light"
          }
        },
        {
          "output_type": "stream",
          "text": [
            "1 -  Выход на российский рынок\n",
            "2 -  Расширение ассортимента\n",
            "3 -  Спрос на продукцию\n",
            "4 -  Наличие необходимых ресурсов и умений\n",
            "Mon Mar  1 20:21:27 MSK 2021\n"
          ],
          "name": "stdout"
        }
      ]
    },
    {
      "cell_type": "code",
      "metadata": {
        "colab": {
          "base_uri": "https://localhost:8080/",
          "height": 617
        },
        "id": "tgDZ7jly_Zr-",
        "outputId": "633c1ac3-506e-4484-f797-e3bde48d9535"
      },
      "source": [
        "#работаем с листом threats\r\n",
        "print('\\nРаботаем с листом threats')\r\n",
        "%ll -lAF /content/drive/MyDrive/\"Colab Notebooks\"/SWOT1/\r\n",
        "os.listdir('/content/drive/MyDrive/Colab Notebooks/SWOT1/')\r\n",
        "#Подсчёт суммарной power в threats\r\n",
        "worksheet = table.worksheet(\"threats\")\r\n",
        "rows = worksheet.get_all_values()\r\n",
        "name = list()\r\n",
        "actions = list()\r\n",
        "importanceW = list()\r\n",
        "probabilityW = list()\r\n",
        "power = list()\r\n",
        "power_sh = list()\r\n",
        "power_raw = list()\r\n",
        "i=0\r\n",
        "for row in rows:\r\n",
        "  if(i>0):\r\n",
        "    print (i, row)\r\n",
        "    name.append(row[0])\r\n",
        "    importance.append(int(row[2]))\r\n",
        "    probability.append(float(row[3]))\r\n",
        "    power.append(int(row[2])*float(row[3]))\r\n",
        "    power_raw = list()\r\n",
        "    power_raw.append(int(row[2])*float(row[3]))\r\n",
        "    power_sh.append(power_raw)\r\n",
        "  i+=1\r\n",
        "print(power_sh)\r\n",
        "worksheet.update('E2:E10', power_sh)\r\n",
        "result= sum(power)\r\n",
        "worksheet.update('G3','Суммарная power:')\r\n",
        "worksheet.update('H3',result)\r\n",
        "print('Суммарная Power threats составляет:', result)\r\n",
        "#Диаграмма Threats\r\n",
        "import matplotlib\r\n",
        "import matplotlib.pyplot as plt\r\n",
        "import numpy as np\r\n",
        "\r\n",
        "#лист line через цикл/для подсчёта кол-ва пуктов=>cтолбцов\r\n",
        "i=0\r\n",
        "line = list()\r\n",
        "cols = worksheet.col_values(1)\r\n",
        "for col in cols:\r\n",
        "  if(i>0):\r\n",
        "    line.append(i)\r\n",
        "  i+=1\r\n",
        "\r\n",
        "powers =power\r\n",
        "x = np.arange(len(line))  # the label locations\r\n",
        "width = 0.6  # the width of the bars\r\n",
        "fig, ax = plt.subplots()\r\n",
        "rects1 = ax.bar(x - width/2, powers, width)\r\n",
        "a=worksheet.col_values(1)\r\n",
        "ax.set_ylabel('Мощность воздействия')\r\n",
        "ax.set_title('Threats')\r\n",
        "ax.set_xlabel('Обозначения')\r\n",
        "ax.set_xticks(x)\r\n",
        "ax.set_xticklabels(line)\r\n",
        "fig.tight_layout()\r\n",
        "plt.show()\r\n",
        "k=0\r\n",
        "#вывод пунктов из name в цикле(подпись диаграммы)\r\n",
        "for col in cols:\r\n",
        "  if(k>0):\r\n",
        "    print (k,'- ', col)\r\n",
        "  k+=1\r\n",
        "!date"
      ],
      "execution_count": 41,
      "outputs": [
        {
          "output_type": "stream",
          "text": [
            "\n",
            "Работаем с листом threats\n",
            "total 88\n",
            "-rw------- 1 root 73986 Mar  1 20:20 connection.ipynb\n",
            "-rw------- 1 root 11877 Mar  1 20:20 mathplot_bar_swot.png\n",
            "-rw------- 1 root  2511 Mar  1 20:20 swot_dictionary11.json\n",
            "-rw------- 1 root   151 Mar  1 20:20 TABLE.gsheet\n",
            "1 ['Увеличение рыночной власти покупателей', 'Привлечение покупателей специальными предложениями(акциями), рекламой', '9', '0.60', '5.4', '', '', '']\n",
            "2 ['Увеличение рыночной власти поставщиков', 'Взаимовыгодный договор,поиск новых источников поставки', '9', '0.15', '1.35', '', 'Суммарная power:', '14.75']\n",
            "3 ['Возможность появления новых конкурентов', 'Обусловлено небольшой суммой для первоначального входа на рынок', '8', '0.5', '4', '', '', '']\n",
            "4 ['Конкуренция с действующими компаниями-участниками рынка', 'Можно ослабить рекламой, качеством и доступностью товара', '8', '0.5', '4', '', '', '']\n",
            "[[5.3999999999999995], [1.3499999999999999], [4.0], [4.0]]\n",
            "Суммарная Power threats составляет: 14.75\n"
          ],
          "name": "stdout"
        },
        {
          "output_type": "display_data",
          "data": {
            "image/png": "[encoded data removed]",
            "text/plain": [
              "<Figure size 432x288 with 1 Axes>"
            ]
          },
          "metadata": {
            "tags": [],
            "needs_background": "light"
          }
        },
        {
          "output_type": "stream",
          "text": [
            "1 -  Увеличение рыночной власти покупателей\n",
            "2 -  Увеличение рыночной власти поставщиков\n",
            "3 -  Возможность появления новых конкурентов\n",
            "4 -  Конкуренция с действующими компаниями-участниками рынка\n",
            "Mon Mar  1 20:21:30 MSK 2021\n"
          ],
          "name": "stdout"
        }
      ]
    },
    {
      "cell_type": "code",
      "metadata": {
        "id": "iQvgWEGc1hwd",
        "colab": {
          "base_uri": "https://localhost:8080/",
          "height": 538
        },
        "outputId": "77ea2c6e-bf12-4056-9c68-2432c55ad0cc"
      },
      "source": [
        "#Итоговые подсчёты и диаграмма\r\n",
        "import os\r\n",
        "import json\r\n",
        "\r\n",
        "def matplot(element):\r\n",
        "    import matplotlib.pyplot as plt\r\n",
        "    x=list()\r\n",
        "    x_float=list()\r\n",
        "    title=list()\r\n",
        "    y_float=list()\r\n",
        "\r\n",
        "    #Перенос значений power из листов 4-х элементов SWOT-анализа в лист 'result'\r\n",
        "    worksheet = table.worksheet(\"strengths\")\r\n",
        "    stren=worksheet.acell('H3').value\r\n",
        "    worksheet = table.worksheet(\"weaknesses\")\r\n",
        "    weak=worksheet.acell('H3').value\r\n",
        "    worksheet = table.worksheet(\"opportunities\")\r\n",
        "    opp=worksheet.acell('H3').value\r\n",
        "    worksheet = table.worksheet(\"threats\")\r\n",
        "    thr=worksheet.acell('H3').value\r\n",
        "    worksheet = table.worksheet(\"result\")\r\n",
        "    worksheet.update('B2',stren)\r\n",
        "    stren=worksheet.acell('B2').value\r\n",
        "    worksheet.update('B3',weak)\r\n",
        "    weak=worksheet.acell('B3').value\r\n",
        "    worksheet.update('B4',opp)\r\n",
        "    opp=worksheet.acell('B4').value\r\n",
        "    worksheet.update('B5',thr)\r\n",
        "    thr=worksheet.acell('B5').value\r\n",
        "\r\n",
        "    #использую .json для постороения диаграммы. Записываю в него значения power 4-х элементов SWOT-анализа\r\n",
        "    read_file = open(\"/content/drive/MyDrive/Colab Notebooks/SWOT1/swot_dictionary11.json\", 'r+')\r\n",
        "    read_file.write('{\"weaknesses\": ')\r\n",
        "    read_file.write(weak)\r\n",
        "    read_file.write(', \"opportunities\": ')\r\n",
        "    read_file.write(opp)\r\n",
        "    read_file.write(', \"strengths\": ')\r\n",
        "    read_file.write(stren)\r\n",
        "    read_file.write(', \"threats\": ')\r\n",
        "    read_file.write(thr)\r\n",
        "    read_file.write('}')\r\n",
        "    read_file.write('\\n')\r\n",
        "\r\n",
        "    i=0\r\n",
        "    for line in read_file.readlines():\r\n",
        "        i+=1\r\n",
        "        data = json.loads(line)\r\n",
        "        title = [ \"strengths\", \"weaknesses\", \"opportunities\", \"threats\", \"result\"]\r\n",
        "        x=title\r\n",
        "        x_float = [1, 2, 3, 4, 5]\r\n",
        "        result = float(data['strengths']) - 1*float(data['weaknesses']) + float(data['opportunities']) - 1*float(data['threats'])\r\n",
        "        y = [float(data['strengths']), float(data['weaknesses']), float(data['opportunities']), float(data['threats'])]\r\n",
        "        y_float = [float(data['strengths']), -1*float(data['weaknesses']), float(data['opportunities']), -1*float(data['threats']),  result]\r\n",
        "    print(x_float,title,y_float)\r\n",
        "    #запись итоговой result в таблицу на лист 'result'\r\n",
        "    worksheet=table.worksheet('result')\r\n",
        "    worksheet.update('C2',result)\r\n",
        "    read_file.close()\r\n",
        "    x_pos=list()\r\n",
        "    for i in range(x_float.__len__()):\r\n",
        "        x_pos.append(i)\r\n",
        "    fig=plt.figure(figsize=(8,6), dpi=72)\r\n",
        "    plt.bar(x_pos, y_float, width=0.75, align='edge', alpha=0.4)\r\n",
        "    plt.xticks(x_pos,  x_float, fontsize=14)\r\n",
        "    plt.xlabel('Обозначения', fontsize=14)\r\n",
        "    plt.ylabel('Мощность воздействия', fontsize=14)\r\n",
        "    plt.title('SWOT', fontsize=14)\r\n",
        "    plt.grid(True, color='r', linestyle='-', linewidth=2)\r\n",
        "    plt.show()\r\n",
        "    fig.savefig(\"/content/drive/MyDrive/Colab Notebooks/SWOT1/mathplot_bar_swot.png\")\r\n",
        "  \r\n",
        "    for i in range(title.__len__()):\r\n",
        "        print(i+1, \" - \", title[i], \"; \")\r\n",
        "        i += 1\r\n",
        "    \r\n",
        "if __name__ == \"__main__\":\r\n",
        "    element = 'swot_dictionary'\r\n",
        "    matplot(element)\r\n",
        "    !date"
      ],
      "execution_count": 42,
      "outputs": [
        {
          "output_type": "stream",
          "text": [
            "[1, 2, 3, 4, 5] ['strengths', 'weaknesses', 'opportunities', 'threats', 'result'] [31.75, -9.9, 17.9, -14.75, 25.0]\n"
          ],
          "name": "stdout"
        },
        {
          "output_type": "display_data",
          "data": {
            "image/png": "[encoded data removed]",
            "text/plain": [
              "<Figure size 576x432 with 1 Axes>"
            ]
          },
          "metadata": {
            "tags": [],
            "needs_background": "light"
          }
        },
        {
          "output_type": "stream",
          "text": [
            "1  -  strengths ; \n",
            "2  -  weaknesses ; \n",
            "3  -  opportunities ; \n",
            "4  -  threats ; \n",
            "5  -  result ; \n",
            "Mon Mar  1 20:21:36 MSK 2021\n"
          ],
          "name": "stdout"
        }
      ]
    }
  ]
}