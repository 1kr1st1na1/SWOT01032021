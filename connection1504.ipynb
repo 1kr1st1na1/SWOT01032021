{
  "nbformat": 4,
  "nbformat_minor": 0,
  "metadata": {
    "colab": {
      "name": "connection.ipynb",
      "provenance": [],
      "collapsed_sections": [],
      "authorship_tag": "ABX9TyMMdk2v5h3vTYRg3hM9MxEv",
      "include_colab_link": true
    },
    "kernelspec": {
      "name": "python3",
      "display_name": "Python 3"
    }
  },
  "cells": [
    {
      "cell_type": "markdown",
      "metadata": {
        "id": "view-in-github",
        "colab_type": "text"
      },
      "source": [
        "<a href=\"https://colab.research.google.com/github/1kr1st1na1/SWOT01032021/blob/main/connection1504.ipynb\" target=\"_parent\"><img src=\"https://colab.research.google.com/assets/colab-badge.svg\" alt=\"Open In Colab\"/></a>"
      ]
    },
    {
      "cell_type": "code",
      "metadata": {
        "colab": {
          "base_uri": "https://localhost:8080/"
        },
        "id": "11rqXeqlKI4m",
        "outputId": "08cae5ed-a33f-402f-adaf-1387200a7479"
      },
      "source": [
        "from google.colab import auth\n",
        "auth.authenticate_user()\n",
        "!pip install --upgrade gspread\n",
        "import gspread\n",
        "from google.colab import drive\n",
        "drive.mount('/content/drive')\n",
        "import os\n",
        "print(os.getcwd())\n",
        "print(os.listdir('./'))\n",
        "print(os.listdir('/content/drive'))\n",
        "print(os.listdir('/content/drive/MyDrive/Colab Notebooks/SWOT1'))\n",
        "from google.auth import default\n",
        "creds, _ = default()\n",
        "gs = gspread.authorize(creds)\n",
        "import os\n",
        "import time\n",
        "print('\\nРаботаем с таблицей')\n",
        "%ll -lAF /content/drive/MyDrive/\"Colab Notebooks\"/SWOT1/\n",
        "os.stat('/content/drive/MyDrive/Colab Notebooks/SWOT1/TABLE.gsheet')\n",
        "table = gs.open_by_key('1LSWFOVthquRnsqGwxX7eNQCzqY_j1fKd7fq8KUlQczo')\n",
        "print(dir(table))"
      ],
      "execution_count": null,
      "outputs": [
        {
          "output_type": "stream",
          "name": "stdout",
          "text": [
            "Requirement already satisfied: gspread in /usr/local/lib/python3.7/dist-packages (5.3.2)\n",
            "Requirement already satisfied: google-auth-oauthlib>=0.4.1 in /usr/local/lib/python3.7/dist-packages (from gspread) (0.4.6)\n",
            "Requirement already satisfied: google-auth>=1.12.0 in /usr/local/lib/python3.7/dist-packages (from gspread) (1.35.0)\n",
            "Requirement already satisfied: setuptools>=40.3.0 in /usr/local/lib/python3.7/dist-packages (from google-auth>=1.12.0->gspread) (57.4.0)\n",
            "Requirement already satisfied: pyasn1-modules>=0.2.1 in /usr/local/lib/python3.7/dist-packages (from google-auth>=1.12.0->gspread) (0.2.8)\n",
            "Requirement already satisfied: six>=1.9.0 in /usr/local/lib/python3.7/dist-packages (from google-auth>=1.12.0->gspread) (1.15.0)\n",
            "Requirement already satisfied: rsa<5,>=3.1.4 in /usr/local/lib/python3.7/dist-packages (from google-auth>=1.12.0->gspread) (4.8)\n",
            "Requirement already satisfied: cachetools<5.0,>=2.0.0 in /usr/local/lib/python3.7/dist-packages (from google-auth>=1.12.0->gspread) (4.2.4)\n",
            "Requirement already satisfied: requests-oauthlib>=0.7.0 in /usr/local/lib/python3.7/dist-packages (from google-auth-oauthlib>=0.4.1->gspread) (1.3.1)\n",
            "Requirement already satisfied: pyasn1<0.5.0,>=0.4.6 in /usr/local/lib/python3.7/dist-packages (from pyasn1-modules>=0.2.1->google-auth>=1.12.0->gspread) (0.4.8)\n",
            "Requirement already satisfied: requests>=2.0.0 in /usr/local/lib/python3.7/dist-packages (from requests-oauthlib>=0.7.0->google-auth-oauthlib>=0.4.1->gspread) (2.23.0)\n",
            "Requirement already satisfied: oauthlib>=3.0.0 in /usr/local/lib/python3.7/dist-packages (from requests-oauthlib>=0.7.0->google-auth-oauthlib>=0.4.1->gspread) (3.2.0)\n",
            "Requirement already satisfied: idna<3,>=2.5 in /usr/local/lib/python3.7/dist-packages (from requests>=2.0.0->requests-oauthlib>=0.7.0->google-auth-oauthlib>=0.4.1->gspread) (2.10)\n",
            "Requirement already satisfied: certifi>=2017.4.17 in /usr/local/lib/python3.7/dist-packages (from requests>=2.0.0->requests-oauthlib>=0.7.0->google-auth-oauthlib>=0.4.1->gspread) (2021.10.8)\n",
            "Requirement already satisfied: chardet<4,>=3.0.2 in /usr/local/lib/python3.7/dist-packages (from requests>=2.0.0->requests-oauthlib>=0.7.0->google-auth-oauthlib>=0.4.1->gspread) (3.0.4)\n",
            "Requirement already satisfied: urllib3!=1.25.0,!=1.25.1,<1.26,>=1.21.1 in /usr/local/lib/python3.7/dist-packages (from requests>=2.0.0->requests-oauthlib>=0.7.0->google-auth-oauthlib>=0.4.1->gspread) (1.24.3)\n",
            "Drive already mounted at /content/drive; to attempt to forcibly remount, call drive.mount(\"/content/drive\", force_remount=True).\n",
            "/content\n",
            "['.config', 'drive', 'sample_data']\n",
            "['.shortcut-targets-by-id', 'MyDrive', '.file-revisions-by-id', '.Trash-0']\n",
            "['swot_dictionary11.json', 'mathplot_bar_swot.png', 'TABLE.gsheet', 'connection.ipynb']\n",
            "\n",
            "Работаем с таблицей\n",
            "total 86\n",
            "-rw------- 1 root 72380 Apr 15 16:58 connection.ipynb\n",
            "-rw------- 1 root 11907 Apr 15 16:58 mathplot_bar_swot.png\n",
            "-rw------- 1 root  2188 Apr 15 16:58 swot_dictionary11.json\n",
            "-rw------- 1 root   143 Apr 15 16:58 TABLE.gsheet\n",
            "['__class__', '__delattr__', '__dict__', '__dir__', '__doc__', '__eq__', '__format__', '__ge__', '__getattribute__', '__gt__', '__hash__', '__init__', '__init_subclass__', '__iter__', '__le__', '__lt__', '__module__', '__ne__', '__new__', '__reduce__', '__reduce_ex__', '__repr__', '__setattr__', '__sizeof__', '__str__', '__subclasshook__', '__weakref__', '_properties', '_spreadsheets_get', '_spreadsheets_sheets_copy_to', 'add_worksheet', 'batch_update', 'client', 'creationTime', 'del_worksheet', 'duplicate_sheet', 'fetch_sheet_metadata', 'get_worksheet', 'get_worksheet_by_id', 'id', 'lastUpdateTime', 'list_named_ranges', 'list_permissions', 'list_protected_ranges', 'locale', 'named_range', 'remove_permissions', 'reorder_worksheets', 'share', 'sheet1', 'timezone', 'title', 'update_locale', 'update_timezone', 'update_title', 'updated', 'url', 'values_append', 'values_batch_clear', 'values_batch_get', 'values_batch_update', 'values_clear', 'values_get', 'values_update', 'worksheet', 'worksheets']\n"
          ]
        }
      ]
    },
    {
      "cell_type": "code",
      "metadata": {
        "id": "JILXPGK36dsh",
        "colab": {
          "base_uri": "https://localhost:8080/",
          "height": 609
        },
        "outputId": "40deb327-2469-4192-b242-9a78714c1555"
      },
      "source": [
        "#работаем с листом strengths\n",
        "print('\\nРаботаем с листом strengths')\n",
        "%ll -lAF /content/drive/MyDrive/\"Colab Notebooks\"/SWOT1/\n",
        "os.listdir('/content/drive/MyDrive/Colab Notebooks/SWOT1/')\n",
        "#подсчёт суммарной power в strengths\n",
        "worksheet = table.worksheet(\"strengths\")\n",
        "rows = worksheet.get_all_values()\n",
        "name = list()\n",
        "actions = list()\n",
        "importance = list()\n",
        "probability = list()\n",
        "power = list()\n",
        "power_sh = list()\n",
        "power_raw = list()\n",
        "i=0\n",
        "for row in rows:\n",
        "  if(i>0):\n",
        "    print (i, row)\n",
        "    name.append(row[0])\n",
        "    importance.append(int(row[2]))\n",
        "    probability.append(float(row[3]))\n",
        "    power.append(int(row[2])*float(row[3]))\n",
        "    power_raw = list()\n",
        "    power_raw.append(int(row[2])*float(row[3]))\n",
        "    power_sh.append(power_raw)\n",
        "  i+=1\n",
        "print(power_sh)\n",
        "worksheet.update('E2:E10', power_sh)\n",
        "result = sum(power)\n",
        "worksheet.update('G3','Суммарная power:')\n",
        "worksheet.update('H3',result)\n",
        "print('Суммарная Power strengths составляет:', result)\n",
        "#Диаграмма strengths\n",
        "import matplotlib\n",
        "import matplotlib.pyplot as plt\n",
        "import numpy as np\n",
        "#лист line через цикл/для подсчёта кол-ва пуктов=>cтолбцов диаграммы\n",
        "i=0\n",
        "line= list()\n",
        "cols=worksheet.col_values(1)\n",
        "for col in cols:\n",
        "  if (i>0):\n",
        "    line.append(i)\n",
        "  i+=1\n",
        "powers = power\n",
        "x = np.arange(len(line))  # the label locations\n",
        "width = 0.6  # the width of the bars\n",
        "fig, ax = plt.subplots()\n",
        "rects1 = ax.bar(x - width/2, powers, width)\n",
        "a=worksheet.col_values(1)\n",
        "ax.set_ylabel('Мощность воздействия')\n",
        "ax.set_title('Strengths')\n",
        "ax.set_xlabel('Обозначения')\n",
        "ax.set_xticks(x)\n",
        "ax.set_xticklabels(line)\n",
        "fig.tight_layout()\n",
        "plt.show()\n",
        "k=0\n",
        "#вывод пунктов из name в цикле(подпись диаграммы)\n",
        "for col in cols:\n",
        "  if(k>0):\n",
        "    print (k,'- ', col)\n",
        "  k+=1\n",
        "!date"
      ],
      "execution_count": null,
      "outputs": [
        {
          "output_type": "stream",
          "name": "stdout",
          "text": [
            "\n",
            "Работаем с листом strengths\n",
            "total 86\n",
            "-rw------- 1 root 72380 Apr 15 16:58 connection.ipynb\n",
            "-rw------- 1 root 11907 Apr 15 16:58 mathplot_bar_swot.png\n",
            "-rw------- 1 root  2188 Apr 15 16:58 swot_dictionary11.json\n",
            "-rw------- 1 root   143 Apr 15 16:58 TABLE.gsheet\n",
            "1 ['Небольшие затраты на производство', 'В начале необходимо около 40 тыс.руб., вода, свет, тепло, субстрат', '8', '0.9', '7.2', '', '', '']\n",
            "2 ['Удобное местоположение', 'Нет необходимости возводить масштабную и дорогую теплицу, может находиться прямо в городе', '9', '1', '9', '', 'Суммарная power:', '30.85']\n",
            "3 ['Круглогодичность производства', 'Обусловлено вырщиванием в теплицах', '9', '0.85', '7.65', '', '', '']\n",
            "4 ['Большой объём производимого товара на небольшой площади', 'Обусловлено тем, что это микрозелень', '7', '1', '7', '', '', '']\n",
            "[[7.2], [9.0], [7.6499999999999995], [7.0]]\n",
            "Суммарная Power strengths составляет: 30.849999999999998\n"
          ]
        },
        {
          "output_type": "display_data",
          "data": {
            "text/plain": [
              "<Figure size 432x288 with 1 Axes>"
            ],
            "image/png": "[encoded data removed]"
          },
          "metadata": {
            "needs_background": "light"
          }
        },
        {
          "output_type": "stream",
          "name": "stdout",
          "text": [
            "1 -  Небольшие затраты на производство\n",
            "2 -  Удобное местоположение\n",
            "3 -  Круглогодичность производства\n",
            "4 -  Большой объём производимого товара на небольшой площади\n",
            "Fri Apr 15 16:58:33 MSK 2022\n"
          ]
        }
      ]
    },
    {
      "cell_type": "code",
      "metadata": {
        "id": "2uh9xPkY2x8F",
        "colab": {
          "base_uri": "https://localhost:8080/",
          "height": 609
        },
        "outputId": "436d76f2-3e40-439f-cd64-639214922d54"
      },
      "source": [
        "#работаем с листом weaknesses\n",
        "print('\\nРаботаем с листом weaknesses')\n",
        "%ll -lAF /content/drive/MyDrive/\"Colab Notebooks\"/SWOT1/\n",
        "os.listdir('/content/drive/MyDrive/Colab Notebooks/SWOT1/')\n",
        "#Подсчёт суммарной power в weaknesses\n",
        "worksheet = table.worksheet(\"weaknesses\")\n",
        "rows = worksheet.get_all_values()\n",
        "name = list()\n",
        "actions = list()\n",
        "importanceW = list()\n",
        "probabilityW = list()\n",
        "power = list()\n",
        "power_sh = list()\n",
        "power_raw = list()\n",
        "i=0\n",
        "for row in rows:\n",
        "  if(i>0):\n",
        "    print (i, row)\n",
        "    name.append(row[0])\n",
        "    importance.append(int(row[2]))\n",
        "    probability.append(float(row[3]))\n",
        "    power.append(int(row[2])*float(row[3]))\n",
        "    power_raw = list()\n",
        "    power_raw.append(int(row[2])*float(row[3]))\n",
        "    power_sh.append(power_raw)\n",
        "  i+=1\n",
        "print(power_sh)\n",
        "worksheet.update('E2:E10', power_sh)\n",
        "result= sum(power)\n",
        "worksheet.update('G3','Суммарная power:')\n",
        "worksheet.update('H3',result)\n",
        "print('Суммарная Power weaknesses составляет:', result)\n",
        "#Диаграмма weaknesses\n",
        "import matplotlib\n",
        "import matplotlib.pyplot as plt\n",
        "import numpy as np\n",
        "\n",
        "#лист line через цикл/для подсчёта кол-ва пуктов=>cтолбцов\n",
        "i=0\n",
        "line = list()\n",
        "cols = worksheet.col_values(1)\n",
        "for col in cols:\n",
        "  if(i>0):\n",
        "    line.append(i)\n",
        "  i+=1\n",
        "\n",
        "powers = power\n",
        "x = np.arange(len(line))  # the label locations\n",
        "width = 0.6  # the width of the bars\n",
        "fig, ax = plt.subplots()\n",
        "rects1 = ax.bar(x - width/2, powers, width)\n",
        "a=worksheet.col_values(1)\n",
        "ax.set_ylabel('Мощность воздействия')\n",
        "ax.set_title('Weaknesses')\n",
        "ax.set_xlabel('Обозначения')\n",
        "ax.set_xticks(x)\n",
        "ax.set_xticklabels(line)\n",
        "fig.tight_layout()\n",
        "plt.show()\n",
        "k=0\n",
        "#вывод пунктов из name в цикле(подпись диаграммы)\n",
        "for col in cols:\n",
        "  if(k>0):\n",
        "    print (k,'- ', col)\n",
        "  k+=1\n",
        "!date"
      ],
      "execution_count": null,
      "outputs": [
        {
          "output_type": "stream",
          "name": "stdout",
          "text": [
            "\n",
            "Работаем с листом weaknesses\n",
            "total 86\n",
            "-rw------- 1 root 72380 Apr 15 16:58 connection.ipynb\n",
            "-rw------- 1 root 11907 Apr 15 16:58 mathplot_bar_swot.png\n",
            "-rw------- 1 root  2188 Apr 15 16:58 swot_dictionary11.json\n",
            "-rw------- 1 root   143 Apr 15 16:58 TABLE.gsheet\n",
            "1 ['Болезнь растений, почвы', 'Тщательный уход, проверки. Удобрения.', '9', '0.4', '3.6', '', '', '']\n",
            "2 ['Малые сроки хранения (в среднем 10 дней)', 'Акции. Сотрудничество с ресторанами, кафе, иными предприятиями', '7', '0.5', '3.5', '', 'Суммарная power:', '9.9']\n",
            "3 ['Потеря энерго- и водо- снабжения', 'Маловероятно', '8', '0.1', '0.8', '', '', '']\n",
            "4 ['Недобросовестность персонала', 'Выплата премий(надбавок). Назначение штрафов.', '8', '0.25', '2', '', '', '']\n",
            "[[3.6], [3.5], [0.8], [2.0]]\n",
            "Суммарная Power weaknesses составляет: 9.899999999999999\n"
          ]
        },
        {
          "output_type": "display_data",
          "data": {
            "text/plain": [
              "<Figure size 432x288 with 1 Axes>"
            ],
            "image/png": "[encoded data removed]"
          },
          "metadata": {
            "needs_background": "light"
          }
        },
        {
          "output_type": "stream",
          "name": "stdout",
          "text": [
            "1 -  Болезнь растений, почвы\n",
            "2 -  Малые сроки хранения (в среднем 10 дней)\n",
            "3 -  Потеря энерго- и водо- снабжения\n",
            "4 -  Недобросовестность персонала\n",
            "Fri Apr 15 16:58:36 MSK 2022\n"
          ]
        }
      ]
    },
    {
      "cell_type": "code",
      "metadata": {
        "id": "teW3KxpN9pgB",
        "colab": {
          "base_uri": "https://localhost:8080/",
          "height": 609
        },
        "outputId": "e9cc1b98-f72c-45f6-ea96-239f9ef8f2bb"
      },
      "source": [
        "#работаем с листом opportunities\n",
        "print('\\nРаботаем с листом opportunities')\n",
        "%ll -lAF /content/drive/MyDrive/\"Colab Notebooks\"/SWOT1/\n",
        "os.listdir('/content/drive/MyDrive/Colab Notebooks/SWOT1/')\n",
        "#Подсчёт суммарной power в opportunities\n",
        "worksheet = table.worksheet(\"opportunities\")\n",
        "rows = worksheet.get_all_values()\n",
        "name = list()\n",
        "actions = list()\n",
        "importanceW = list()\n",
        "probabilityW = list()\n",
        "power = list()\n",
        "power_sh = list()\n",
        "power_raw = list()\n",
        "i=0\n",
        "for row in rows:\n",
        "  if(i>0):\n",
        "    print (i, row)\n",
        "    name.append(row[0])\n",
        "    importance.append(int(row[2]))\n",
        "    probability.append(float(row[3]))\n",
        "    power.append(int(row[2])*float(row[3]))\n",
        "    power_raw = list()\n",
        "    power_raw.append(int(row[2])*float(row[3]))\n",
        "    power_sh.append(power_raw)\n",
        "  i+=1\n",
        "print(power_sh)\n",
        "worksheet.update('E2:E10', power_sh)\n",
        "result= sum(power)\n",
        "worksheet.update('G3','Суммарная power:')\n",
        "worksheet.update('H3',result)\n",
        "print('Суммарная Power opportunities составляет:', result)\n",
        "#Диаграмма opportunities\n",
        "import matplotlib\n",
        "import matplotlib.pyplot as plt\n",
        "import numpy as np\n",
        "\n",
        "#лист line через цикл/для подсчёта кол-ва пуктов=>cтолбцов\n",
        "i=0\n",
        "line = list()\n",
        "cols = worksheet.col_values(1)\n",
        "for col in cols:\n",
        "  if(i>0):\n",
        "    line.append(i)\n",
        "  i+=1\n",
        "\n",
        "powers = power\n",
        "x = np.arange(len(line))  # the label locations\n",
        "width = 0.6  # the width of the bars\n",
        "fig, ax = plt.subplots()\n",
        "rects1 = ax.bar(x - width/2, powers, width)\n",
        "a=worksheet.col_values(1)\n",
        "ax.set_ylabel('Мощность воздействия')\n",
        "ax.set_title('Opportunities')\n",
        "ax.set_xlabel('Обозначения')\n",
        "ax.set_xticks(x)\n",
        "ax.set_xticklabels(line)\n",
        "fig.tight_layout()\n",
        "plt.show()\n",
        "k=0\n",
        "#вывод пунктов из name в цикле(подпись диаграммы)\n",
        "for col in cols:\n",
        "  if(k>0):\n",
        "    print (k,'- ', col)\n",
        "  k+=1\n",
        "!date"
      ],
      "execution_count": null,
      "outputs": [
        {
          "output_type": "stream",
          "name": "stdout",
          "text": [
            "\n",
            "Работаем с листом opportunities\n",
            "total 86\n",
            "-rw------- 1 root 72380 Apr 15 16:58 connection.ipynb\n",
            "-rw------- 1 root 11907 Apr 15 16:58 mathplot_bar_swot.png\n",
            "-rw------- 1 root  2188 Apr 15 16:58 swot_dictionary11.json\n",
            "-rw------- 1 root   143 Apr 15 16:58 TABLE.gsheet\n",
            "1 ['Выход на российский рынок', 'Достигается увеличением объёма производства и изучением спроса', '7', '0.5', '3.5', '', '', '']\n",
            "2 ['Расширение ассортимента', 'Обуслевлено спросом, достигается с помощью прибыли', '6', '0.5', '3', '', 'Суммарная power:', '17.9']\n",
            "3 ['Спрос на продукцию', 'Обуслевлено желанием покупателей правильно и здорово питаться', '6', '0.7', '4.2', '', '', '']\n",
            "4 ['Наличие необходимых ресурсов и умений', 'Достигается привлечением специалистами и инфраструктурой', '8', '0.9', '7.2', '', '', '']\n",
            "[[3.5], [3.0], [4.199999999999999], [7.2]]\n",
            "Суммарная Power opportunities составляет: 17.9\n"
          ]
        },
        {
          "output_type": "display_data",
          "data": {
            "text/plain": [
              "<Figure size 432x288 with 1 Axes>"
            ],
            "image/png": "[encoded data removed]"
          },
          "metadata": {
            "needs_background": "light"
          }
        },
        {
          "output_type": "stream",
          "name": "stdout",
          "text": [
            "1 -  Выход на российский рынок\n",
            "2 -  Расширение ассортимента\n",
            "3 -  Спрос на продукцию\n",
            "4 -  Наличие необходимых ресурсов и умений\n",
            "Fri Apr 15 16:58:37 MSK 2022\n"
          ]
        }
      ]
    },
    {
      "cell_type": "code",
      "metadata": {
        "id": "tgDZ7jly_Zr-",
        "colab": {
          "base_uri": "https://localhost:8080/",
          "height": 609
        },
        "outputId": "c2ba5ac9-ebd3-41d5-bb55-a8f2d84bd34a"
      },
      "source": [
        "#работаем с листом threats\n",
        "print('\\nРаботаем с листом threats')\n",
        "%ll -lAF /content/drive/MyDrive/\"Colab Notebooks\"/SWOT1/\n",
        "os.listdir('/content/drive/MyDrive/Colab Notebooks/SWOT1/')\n",
        "#Подсчёт суммарной power в threats\n",
        "worksheet = table.worksheet(\"threats\")\n",
        "rows = worksheet.get_all_values()\n",
        "name = list()\n",
        "actions = list()\n",
        "importanceW = list()\n",
        "probabilityW = list()\n",
        "power = list()\n",
        "power_sh = list()\n",
        "power_raw = list()\n",
        "i=0\n",
        "for row in rows:\n",
        "  if(i>0):\n",
        "    print (i, row)\n",
        "    name.append(row[0])\n",
        "    importance.append(int(row[2]))\n",
        "    probability.append(float(row[3]))\n",
        "    power.append(int(row[2])*float(row[3]))\n",
        "    power_raw = list()\n",
        "    power_raw.append(int(row[2])*float(row[3]))\n",
        "    power_sh.append(power_raw)\n",
        "  i+=1\n",
        "print(power_sh)\n",
        "worksheet.update('E2:E10', power_sh)\n",
        "result= sum(power)\n",
        "worksheet.update('G3','Суммарная power:')\n",
        "worksheet.update('H3',result)\n",
        "print('Суммарная Power threats составляет:', result)\n",
        "#Диаграмма Threats\n",
        "import matplotlib\n",
        "import matplotlib.pyplot as plt\n",
        "import numpy as np\n",
        "\n",
        "#лист line через цикл/для подсчёта кол-ва пуктов=>cтолбцов\n",
        "i=0\n",
        "line = list()\n",
        "cols = worksheet.col_values(1)\n",
        "for col in cols:\n",
        "  if(i>0):\n",
        "    line.append(i)\n",
        "  i+=1\n",
        "\n",
        "powers =power\n",
        "x = np.arange(len(line))  # the label locations\n",
        "width = 0.6  # the width of the bars\n",
        "fig, ax = plt.subplots()\n",
        "rects1 = ax.bar(x - width/2, powers, width)\n",
        "a=worksheet.col_values(1)\n",
        "ax.set_ylabel('Мощность воздействия')\n",
        "ax.set_title('Threats')\n",
        "ax.set_xlabel('Обозначения')\n",
        "ax.set_xticks(x)\n",
        "ax.set_xticklabels(line)\n",
        "fig.tight_layout()\n",
        "plt.show()\n",
        "k=0\n",
        "#вывод пунктов из name в цикле(подпись диаграммы)\n",
        "for col in cols:\n",
        "  if(k>0):\n",
        "    print (k,'- ', col)\n",
        "  k+=1\n",
        "!date"
      ],
      "execution_count": null,
      "outputs": [
        {
          "output_type": "stream",
          "name": "stdout",
          "text": [
            "\n",
            "Работаем с листом threats\n",
            "total 86\n",
            "-rw------- 1 root 72380 Apr 15 16:58 connection.ipynb\n",
            "-rw------- 1 root 11907 Apr 15 16:58 mathplot_bar_swot.png\n",
            "-rw------- 1 root  2188 Apr 15 16:58 swot_dictionary11.json\n",
            "-rw------- 1 root   143 Apr 15 16:58 TABLE.gsheet\n",
            "1 ['Увеличение рыночной власти покупателей', 'Привлечение покупателей специальными предложениями(акциями), рекламой', '9', '0.60', '5.4', '', '', '']\n",
            "2 ['Увеличение рыночной власти поставщиков', 'Взаимовыгодный договор,поиск новых источников поставки', '9', '0.15', '1.35', '', 'Суммарная power:', '14.75']\n",
            "3 ['Возможность появления новых конкурентов', 'Обусловлено небольшой суммой для первоначального входа на рынок', '8', '0.5', '4', '', '', '']\n",
            "4 ['Конкуренция с действующими компаниями-участниками рынка', 'Можно ослабить рекламой, качеством и доступностью товара', '8', '0.5', '4', '', '', '']\n",
            "[[5.3999999999999995], [1.3499999999999999], [4.0], [4.0]]\n",
            "Суммарная Power threats составляет: 14.75\n"
          ]
        },
        {
          "output_type": "display_data",
          "data": {
            "text/plain": [
              "<Figure size 432x288 with 1 Axes>"
            ],
            "image/png": "[encoded data removed]"
          },
          "metadata": {
            "needs_background": "light"
          }
        },
        {
          "output_type": "stream",
          "name": "stdout",
          "text": [
            "1 -  Увеличение рыночной власти покупателей\n",
            "2 -  Увеличение рыночной власти поставщиков\n",
            "3 -  Возможность появления новых конкурентов\n",
            "4 -  Конкуренция с действующими компаниями-участниками рынка\n",
            "Fri Apr 15 16:58:40 MSK 2022\n"
          ]
        }
      ]
    },
    {
      "cell_type": "code",
      "metadata": {
        "id": "iQvgWEGc1hwd",
        "colab": {
          "base_uri": "https://localhost:8080/",
          "height": 517
        },
        "outputId": "a6c3500a-c6ec-4288-a2a3-0b3e0530d343"
      },
      "source": [
        "#Итоговые подсчёты и диаграмма\n",
        "import os\n",
        "import json\n",
        "\n",
        "def matplot(element):\n",
        "    import matplotlib.pyplot as plt\n",
        "    x=list()\n",
        "    x_float=list()\n",
        "    title=list()\n",
        "    y_float=list()\n",
        "\n",
        "    #Перенос значений power из листов 4-х элементов SWOT-анализа в лист 'result'\n",
        "    worksheet = table.worksheet(\"strengths\")\n",
        "    stren=worksheet.acell('H3').value\n",
        "    worksheet = table.worksheet(\"weaknesses\")\n",
        "    weak=worksheet.acell('H3').value\n",
        "    worksheet = table.worksheet(\"opportunities\")\n",
        "    opp=worksheet.acell('H3').value\n",
        "    worksheet = table.worksheet(\"threats\")\n",
        "    thr=worksheet.acell('H3').value\n",
        "    worksheet = table.worksheet(\"result\")\n",
        "    worksheet.update('B2',stren)\n",
        "    stren=worksheet.acell('B2').value\n",
        "    worksheet.update('B3',weak)\n",
        "    weak=worksheet.acell('B3').value\n",
        "    worksheet.update('B4',opp)\n",
        "    opp=worksheet.acell('B4').value\n",
        "    worksheet.update('B5',thr)\n",
        "    thr=worksheet.acell('B5').value\n",
        "\n",
        "    #.json для постороения диаграммы. Записываю в него значения power 4-х элементов SWOT-анализа\n",
        "    read_file = open(\"/content/drive/MyDrive/Colab Notebooks/SWOT1/swot_dictionary11.json\", 'r+')\n",
        "    read_file.write('{\"weaknesses\": ')\n",
        "    read_file.write(weak)\n",
        "    read_file.write(', \"opportunities\": ')\n",
        "    read_file.write(opp)\n",
        "    read_file.write(', \"strengths\": ')\n",
        "    read_file.write(stren)\n",
        "    read_file.write(', \"threats\": ')\n",
        "    read_file.write(thr)\n",
        "    read_file.write('}')\n",
        "    read_file.write('\\n')\n",
        "\n",
        "    i=0\n",
        "    for line in read_file.readlines():\n",
        "        i+=1\n",
        "        data = json.loads(line)\n",
        "        title = [ \"strengths\", \"weaknesses\", \"opportunities\", \"threats\", \"result\"]\n",
        "        x=title\n",
        "        x_float = [1, 2, 3, 4, 5]\n",
        "        result = float(data['strengths']) - 1*float(data['weaknesses']) + float(data['opportunities']) - 1*float(data['threats'])\n",
        "        y = [float(data['strengths']), float(data['weaknesses']), float(data['opportunities']), float(data['threats'])]\n",
        "        y_float = [float(data['strengths']), -1*float(data['weaknesses']), float(data['opportunities']), -1*float(data['threats']),  result]\n",
        "    print(x_float,title,y_float)\n",
        "    #запись итоговой result в таблицу на лист 'result'\n",
        "    worksheet=table.worksheet('result')\n",
        "    worksheet.update('C2',result)\n",
        "    read_file.close()\n",
        "    x_pos=list()\n",
        "    for i in range(x_float.__len__()):\n",
        "        x_pos.append(i)\n",
        "    fig=plt.figure(figsize=(8,6), dpi=72)\n",
        "    plt.bar(x_pos, y_float, width=0.8, align='edge', alpha=0.5)\n",
        "    plt.xticks(x_pos,  x_float, fontsize=14)\n",
        "    plt.xlabel('Обозначения', fontsize=14)\n",
        "    plt.ylabel('Мощность воздействия', fontsize=14)\n",
        "    plt.title('SWOT', fontsize=14)\n",
        "    plt.grid(True, color='r', linestyle='-', linewidth=2)\n",
        "    plt.show()\n",
        "    fig.savefig(\"/content/drive/MyDrive/Colab Notebooks/SWOT1/mathplot_bar_swot.png\")\n",
        "  \n",
        "    for i in range(title.__len__()):\n",
        "        print(i+1, \" - \", title[i], \"; \")\n",
        "        i += 1\n",
        "    \n",
        "if __name__ == \"__main__\":\n",
        "    element = 'swot_dictionary'\n",
        "    matplot(element)\n",
        "    #!date"
      ],
      "execution_count": null,
      "outputs": [
        {
          "output_type": "stream",
          "name": "stdout",
          "text": [
            "[1, 2, 3, 4, 5] ['strengths', 'weaknesses', 'opportunities', 'threats', 'result'] [30.85, -9.9, 17.9, -14.75, 24.1]\n"
          ]
        },
        {
          "output_type": "display_data",
          "data": {
            "text/plain": [
              "<Figure size 576x432 with 1 Axes>"
            ],
            "image/png": "[encoded data removed]"
          },
          "metadata": {
            "needs_background": "light"
          }
        },
        {
          "output_type": "stream",
          "name": "stdout",
          "text": [
            "1  -  strengths ; \n",
            "2  -  weaknesses ; \n",
            "3  -  opportunities ; \n",
            "4  -  threats ; \n",
            "5  -  result ; \n"
          ]
        }
      ]
    }
  ]
}